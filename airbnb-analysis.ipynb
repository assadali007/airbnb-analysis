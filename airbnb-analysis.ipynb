{
 "cells": [
  {
   "cell_type": "code",
   "execution_count": 1,
   "id": "0e41588d",
   "metadata": {
    "_cell_guid": "b1076dfc-b9ad-4769-8c92-a6c4dae69d19",
    "_uuid": "8f2839f25d086af736a60e9eeb907d3b93b6e0e5",
    "execution": {
     "iopub.execute_input": "2025-05-12T13:02:19.832660Z",
     "iopub.status.busy": "2025-05-12T13:02:19.832136Z",
     "iopub.status.idle": "2025-05-12T13:02:21.988779Z",
     "shell.execute_reply": "2025-05-12T13:02:21.987424Z"
    },
    "papermill": {
     "duration": 2.165399,
     "end_time": "2025-05-12T13:02:21.990620",
     "exception": false,
     "start_time": "2025-05-12T13:02:19.825221",
     "status": "completed"
    },
    "tags": []
   },
   "outputs": [
    {
     "name": "stdout",
     "output_type": "stream",
     "text": [
      "/kaggle/input/airbnb-listings-reviews/Airbnb Data/Listings.csv\n",
      "/kaggle/input/airbnb-listings-reviews/Airbnb Data/Reviews.csv\n",
      "/kaggle/input/airbnb-listings-reviews/Airbnb Data/Reviews_data_dictionary.csv\n",
      "/kaggle/input/airbnb-listings-reviews/Airbnb Data/Listings_data_dictionary.csv\n"
     ]
    }
   ],
   "source": [
    "# This Python 3 environment comes with many helpful analytics libraries installed\n",
    "# It is defined by the kaggle/python Docker image: https://github.com/kaggle/docker-python\n",
    "# For example, here's several helpful packages to load\n",
    "\n",
    "import numpy as np # linear algebra\n",
    "import pandas as pd # data processing, CSV file I/O (e.g. pd.read_csv)\n",
    "import matplotlib.pyplot as plt\n",
    "\n",
    "# Input data files are available in the read-only \"../input/\" directory\n",
    "# For example, running this (by clicking run or pressing Shift+Enter) will list all files under the input directory\n",
    "\n",
    "import os\n",
    "for dirname, _, filenames in os.walk('/kaggle/input'):\n",
    "    for filename in filenames:\n",
    "        print(os.path.join(dirname, filename))\n",
    "\n",
    "# You can write up to 20GB to the current directory (/kaggle/working/) that gets preserved as output when you create a version using \"Save & Run All\" \n",
    "# You can also write temporary files to /kaggle/temp/, but they won't be saved outside of the current session"
   ]
  },
  {
   "cell_type": "markdown",
   "id": "a2391783",
   "metadata": {
    "papermill": {
     "duration": 0.004601,
     "end_time": "2025-05-12T13:02:22.000453",
     "exception": false,
     "start_time": "2025-05-12T13:02:21.995852",
     "status": "completed"
    },
    "tags": []
   },
   "source": [
    "**Cast any date columns as a datetime format**"
   ]
  },
  {
   "cell_type": "code",
   "execution_count": 2,
   "id": "226fa9d3",
   "metadata": {
    "execution": {
     "iopub.execute_input": "2025-05-12T13:02:22.011342Z",
     "iopub.status.busy": "2025-05-12T13:02:22.010835Z",
     "iopub.status.idle": "2025-05-12T13:02:27.232962Z",
     "shell.execute_reply": "2025-05-12T13:02:27.232019Z"
    },
    "papermill": {
     "duration": 5.229409,
     "end_time": "2025-05-12T13:02:27.234634",
     "exception": false,
     "start_time": "2025-05-12T13:02:22.005225",
     "status": "completed"
    },
    "tags": []
   },
   "outputs": [
    {
     "data": {
      "text/html": [
       "<div>\n",
       "<style scoped>\n",
       "    .dataframe tbody tr th:only-of-type {\n",
       "        vertical-align: middle;\n",
       "    }\n",
       "\n",
       "    .dataframe tbody tr th {\n",
       "        vertical-align: top;\n",
       "    }\n",
       "\n",
       "    .dataframe thead th {\n",
       "        text-align: right;\n",
       "    }\n",
       "</style>\n",
       "<table border=\"1\" class=\"dataframe\">\n",
       "  <thead>\n",
       "    <tr style=\"text-align: right;\">\n",
       "      <th></th>\n",
       "      <th>listing_id</th>\n",
       "      <th>name</th>\n",
       "      <th>host_id</th>\n",
       "      <th>host_since</th>\n",
       "      <th>host_location</th>\n",
       "      <th>host_response_time</th>\n",
       "      <th>host_response_rate</th>\n",
       "      <th>host_acceptance_rate</th>\n",
       "      <th>host_is_superhost</th>\n",
       "      <th>host_total_listings_count</th>\n",
       "      <th>...</th>\n",
       "      <th>minimum_nights</th>\n",
       "      <th>maximum_nights</th>\n",
       "      <th>review_scores_rating</th>\n",
       "      <th>review_scores_accuracy</th>\n",
       "      <th>review_scores_cleanliness</th>\n",
       "      <th>review_scores_checkin</th>\n",
       "      <th>review_scores_communication</th>\n",
       "      <th>review_scores_location</th>\n",
       "      <th>review_scores_value</th>\n",
       "      <th>instant_bookable</th>\n",
       "    </tr>\n",
       "  </thead>\n",
       "  <tbody>\n",
       "    <tr>\n",
       "      <th>0</th>\n",
       "      <td>281420</td>\n",
       "      <td>Beautiful Flat in le Village Montmartre, Paris</td>\n",
       "      <td>1466919</td>\n",
       "      <td>2011-12-03</td>\n",
       "      <td>Paris, Ile-de-France, France</td>\n",
       "      <td>NaN</td>\n",
       "      <td>NaN</td>\n",
       "      <td>NaN</td>\n",
       "      <td>f</td>\n",
       "      <td>1.0</td>\n",
       "      <td>...</td>\n",
       "      <td>2</td>\n",
       "      <td>1125</td>\n",
       "      <td>100.0</td>\n",
       "      <td>10.0</td>\n",
       "      <td>10.0</td>\n",
       "      <td>10.0</td>\n",
       "      <td>10.0</td>\n",
       "      <td>10.0</td>\n",
       "      <td>10.0</td>\n",
       "      <td>f</td>\n",
       "    </tr>\n",
       "    <tr>\n",
       "      <th>1</th>\n",
       "      <td>3705183</td>\n",
       "      <td>39 mÃÂ² Paris (Sacre CÃ",
       "âur)</td>\n",
       "      <td>10328771</td>\n",
       "      <td>2013-11-29</td>\n",
       "      <td>Paris, Ile-de-France, France</td>\n",
       "      <td>NaN</td>\n",
       "      <td>NaN</td>\n",
       "      <td>NaN</td>\n",
       "      <td>f</td>\n",
       "      <td>1.0</td>\n",
       "      <td>...</td>\n",
       "      <td>2</td>\n",
       "      <td>1125</td>\n",
       "      <td>100.0</td>\n",
       "      <td>10.0</td>\n",
       "      <td>10.0</td>\n",
       "      <td>10.0</td>\n",
       "      <td>10.0</td>\n",
       "      <td>10.0</td>\n",
       "      <td>10.0</td>\n",
       "      <td>f</td>\n",
       "    </tr>\n",
       "    <tr>\n",
       "      <th>2</th>\n",
       "      <td>4082273</td>\n",
       "      <td>Lovely apartment with Terrace, 60m2</td>\n",
       "      <td>19252768</td>\n",
       "      <td>2014-07-31</td>\n",
       "      <td>Paris, Ile-de-France, France</td>\n",
       "      <td>NaN</td>\n",
       "      <td>NaN</td>\n",
       "      <td>NaN</td>\n",
       "      <td>f</td>\n",
       "      <td>1.0</td>\n",
       "      <td>...</td>\n",
       "      <td>2</td>\n",
       "      <td>1125</td>\n",
       "      <td>100.0</td>\n",
       "      <td>10.0</td>\n",
       "      <td>10.0</td>\n",
       "      <td>10.0</td>\n",
       "      <td>10.0</td>\n",
       "      <td>10.0</td>\n",
       "      <td>10.0</td>\n",
       "      <td>f</td>\n",
       "    </tr>\n",
       "    <tr>\n",
       "      <th>3</th>\n",
       "      <td>4797344</td>\n",
       "      <td>Cosy studio (close to Eiffel tower)</td>\n",
       "      <td>10668311</td>\n",
       "      <td>2013-12-17</td>\n",
       "      <td>Paris, Ile-de-France, France</td>\n",
       "      <td>NaN</td>\n",
       "      <td>NaN</td>\n",
       "      <td>NaN</td>\n",
       "      <td>f</td>\n",
       "      <td>1.0</td>\n",
       "      <td>...</td>\n",
       "      <td>2</td>\n",
       "      <td>1125</td>\n",
       "      <td>100.0</td>\n",
       "      <td>10.0</td>\n",
       "      <td>10.0</td>\n",
       "      <td>10.0</td>\n",
       "      <td>10.0</td>\n",
       "      <td>10.0</td>\n",
       "      <td>10.0</td>\n",
       "      <td>f</td>\n",
       "    </tr>\n",
       "    <tr>\n",
       "      <th>4</th>\n",
       "      <td>4823489</td>\n",
       "      <td>Close to Eiffel Tower - Beautiful flat : 2 rooms</td>\n",
       "      <td>24837558</td>\n",
       "      <td>2014-12-14</td>\n",
       "      <td>Paris, Ile-de-France, France</td>\n",
       "      <td>NaN</td>\n",
       "      <td>NaN</td>\n",
       "      <td>NaN</td>\n",
       "      <td>f</td>\n",
       "      <td>1.0</td>\n",
       "      <td>...</td>\n",
       "      <td>2</td>\n",
       "      <td>1125</td>\n",
       "      <td>100.0</td>\n",
       "      <td>10.0</td>\n",
       "      <td>10.0</td>\n",
       "      <td>10.0</td>\n",
       "      <td>10.0</td>\n",
       "      <td>10.0</td>\n",
       "      <td>10.0</td>\n",
       "      <td>f</td>\n",
       "    </tr>\n",
       "  </tbody>\n",
       "</table>\n",
       "<p>5 rows × 33 columns</p>\n",
       "</div>"
      ],
      "text/plain": [
       "   listing_id                                              name   host_id  \\\n",
       "0      281420    Beautiful Flat in le Village Montmartre, Paris   1466919   \n",
       "1     3705183                   39 mÃÂ² Paris (Sacre CÃ\n",
       "âur)  10328771   \n",
       "2     4082273               Lovely apartment with Terrace, 60m2  19252768   \n",
       "3     4797344               Cosy studio (close to Eiffel tower)  10668311   \n",
       "4     4823489  Close to Eiffel Tower - Beautiful flat : 2 rooms  24837558   \n",
       "\n",
       "  host_since                 host_location host_response_time  \\\n",
       "0 2011-12-03  Paris, Ile-de-France, France                NaN   \n",
       "1 2013-11-29  Paris, Ile-de-France, France                NaN   \n",
       "2 2014-07-31  Paris, Ile-de-France, France                NaN   \n",
       "3 2013-12-17  Paris, Ile-de-France, France                NaN   \n",
       "4 2014-12-14  Paris, Ile-de-France, France                NaN   \n",
       "\n",
       "   host_response_rate  host_acceptance_rate host_is_superhost  \\\n",
       "0                 NaN                   NaN                 f   \n",
       "1                 NaN                   NaN                 f   \n",
       "2                 NaN                   NaN                 f   \n",
       "3                 NaN                   NaN                 f   \n",
       "4                 NaN                   NaN                 f   \n",
       "\n",
       "   host_total_listings_count  ... minimum_nights maximum_nights  \\\n",
       "0                        1.0  ...              2           1125   \n",
       "1                        1.0  ...              2           1125   \n",
       "2                        1.0  ...              2           1125   \n",
       "3                        1.0  ...              2           1125   \n",
       "4                        1.0  ...              2           1125   \n",
       "\n",
       "  review_scores_rating review_scores_accuracy review_scores_cleanliness  \\\n",
       "0                100.0                   10.0                      10.0   \n",
       "1                100.0                   10.0                      10.0   \n",
       "2                100.0                   10.0                      10.0   \n",
       "3                100.0                   10.0                      10.0   \n",
       "4                100.0                   10.0                      10.0   \n",
       "\n",
       "   review_scores_checkin  review_scores_communication review_scores_location  \\\n",
       "0                   10.0                         10.0                   10.0   \n",
       "1                   10.0                         10.0                   10.0   \n",
       "2                   10.0                         10.0                   10.0   \n",
       "3                   10.0                         10.0                   10.0   \n",
       "4                   10.0                         10.0                   10.0   \n",
       "\n",
       "  review_scores_value  instant_bookable  \n",
       "0                10.0                 f  \n",
       "1                10.0                 f  \n",
       "2                10.0                 f  \n",
       "3                10.0                 f  \n",
       "4                10.0                 f  \n",
       "\n",
       "[5 rows x 33 columns]"
      ]
     },
     "execution_count": 2,
     "metadata": {},
     "output_type": "execute_result"
    }
   ],
   "source": [
    "import warnings\n",
    "warnings.filterwarnings(\"ignore\")\n",
    "\n",
    "listing_data = pd.read_csv('/kaggle/input/airbnb-listings-reviews/Airbnb Data/Listings.csv', \n",
    "                           encoding='ISO-8859-1', low_memory=False,parse_dates = ['host_since'])\n",
    "listing_data.head()\n"
   ]
  },
  {
   "cell_type": "code",
   "execution_count": 3,
   "id": "51b162a7",
   "metadata": {
    "execution": {
     "iopub.execute_input": "2025-05-12T13:02:27.247336Z",
     "iopub.status.busy": "2025-05-12T13:02:27.246969Z",
     "iopub.status.idle": "2025-05-12T13:02:27.470592Z",
     "shell.execute_reply": "2025-05-12T13:02:27.469423Z"
    },
    "papermill": {
     "duration": 0.232041,
     "end_time": "2025-05-12T13:02:27.472424",
     "exception": false,
     "start_time": "2025-05-12T13:02:27.240383",
     "status": "completed"
    },
    "tags": []
   },
   "outputs": [
    {
     "name": "stdout",
     "output_type": "stream",
     "text": [
      "<class 'pandas.core.frame.DataFrame'>\n",
      "RangeIndex: 279712 entries, 0 to 279711\n",
      "Data columns (total 33 columns):\n",
      " #   Column                       Non-Null Count   Dtype         \n",
      "---  ------                       --------------   -----         \n",
      " 0   listing_id                   279712 non-null  int64         \n",
      " 1   name                         279537 non-null  object        \n",
      " 2   host_id                      279712 non-null  int64         \n",
      " 3   host_since                   279547 non-null  datetime64[ns]\n",
      " 4   host_location                278872 non-null  object        \n",
      " 5   host_response_time           150930 non-null  object        \n",
      " 6   host_response_rate           150930 non-null  float64       \n",
      " 7   host_acceptance_rate         166625 non-null  float64       \n",
      " 8   host_is_superhost            279547 non-null  object        \n",
      " 9   host_total_listings_count    279547 non-null  float64       \n",
      " 10  host_has_profile_pic         279547 non-null  object        \n",
      " 11  host_identity_verified       279547 non-null  object        \n",
      " 12  neighbourhood                279712 non-null  object        \n",
      " 13  district                     37012 non-null   object        \n",
      " 14  city                         279712 non-null  object        \n",
      " 15  latitude                     279712 non-null  float64       \n",
      " 16  longitude                    279712 non-null  float64       \n",
      " 17  property_type                279712 non-null  object        \n",
      " 18  room_type                    279712 non-null  object        \n",
      " 19  accommodates                 279712 non-null  int64         \n",
      " 20  bedrooms                     250277 non-null  float64       \n",
      " 21  amenities                    279712 non-null  object        \n",
      " 22  price                        279712 non-null  int64         \n",
      " 23  minimum_nights               279712 non-null  int64         \n",
      " 24  maximum_nights               279712 non-null  int64         \n",
      " 25  review_scores_rating         188307 non-null  float64       \n",
      " 26  review_scores_accuracy       187999 non-null  float64       \n",
      " 27  review_scores_cleanliness    188047 non-null  float64       \n",
      " 28  review_scores_checkin        187941 non-null  float64       \n",
      " 29  review_scores_communication  188025 non-null  float64       \n",
      " 30  review_scores_location       187937 non-null  float64       \n",
      " 31  review_scores_value          187927 non-null  float64       \n",
      " 32  instant_bookable             279712 non-null  object        \n",
      "dtypes: datetime64[ns](1), float64(13), int64(6), object(13)\n",
      "memory usage: 70.4+ MB\n"
     ]
    }
   ],
   "source": [
    "listing_data.info()\n"
   ]
  },
  {
   "cell_type": "markdown",
   "id": "821482da",
   "metadata": {
    "papermill": {
     "duration": 0.005036,
     "end_time": "2025-05-12T13:02:27.483211",
     "exception": false,
     "start_time": "2025-05-12T13:02:27.478175",
     "status": "completed"
    },
    "tags": []
   },
   "source": [
    "Filter the data down to rows where the city is Paris, and keep only the columns ‘host_since’, ‘neighbourhood’, ‘city’, ‘accommodates’, and ‘price’"
   ]
  },
  {
   "cell_type": "code",
   "execution_count": 4,
   "id": "3f231475",
   "metadata": {
    "execution": {
     "iopub.execute_input": "2025-05-12T13:02:27.495099Z",
     "iopub.status.busy": "2025-05-12T13:02:27.494701Z",
     "iopub.status.idle": "2025-05-12T13:02:27.536441Z",
     "shell.execute_reply": "2025-05-12T13:02:27.535353Z"
    },
    "papermill": {
     "duration": 0.04951,
     "end_time": "2025-05-12T13:02:27.537983",
     "exception": false,
     "start_time": "2025-05-12T13:02:27.488473",
     "status": "completed"
    },
    "tags": []
   },
   "outputs": [
    {
     "data": {
      "text/html": [
       "<div>\n",
       "<style scoped>\n",
       "    .dataframe tbody tr th:only-of-type {\n",
       "        vertical-align: middle;\n",
       "    }\n",
       "\n",
       "    .dataframe tbody tr th {\n",
       "        vertical-align: top;\n",
       "    }\n",
       "\n",
       "    .dataframe thead th {\n",
       "        text-align: right;\n",
       "    }\n",
       "</style>\n",
       "<table border=\"1\" class=\"dataframe\">\n",
       "  <thead>\n",
       "    <tr style=\"text-align: right;\">\n",
       "      <th></th>\n",
       "      <th>host_since</th>\n",
       "      <th>neighbourhood</th>\n",
       "      <th>city</th>\n",
       "      <th>accommodates</th>\n",
       "      <th>price</th>\n",
       "    </tr>\n",
       "  </thead>\n",
       "  <tbody>\n",
       "    <tr>\n",
       "      <th>0</th>\n",
       "      <td>2011-12-03</td>\n",
       "      <td>Buttes-Montmartre</td>\n",
       "      <td>Paris</td>\n",
       "      <td>2</td>\n",
       "      <td>53</td>\n",
       "    </tr>\n",
       "    <tr>\n",
       "      <th>1</th>\n",
       "      <td>2013-11-29</td>\n",
       "      <td>Buttes-Montmartre</td>\n",
       "      <td>Paris</td>\n",
       "      <td>2</td>\n",
       "      <td>120</td>\n",
       "    </tr>\n",
       "    <tr>\n",
       "      <th>2</th>\n",
       "      <td>2014-07-31</td>\n",
       "      <td>Elysee</td>\n",
       "      <td>Paris</td>\n",
       "      <td>2</td>\n",
       "      <td>89</td>\n",
       "    </tr>\n",
       "    <tr>\n",
       "      <th>3</th>\n",
       "      <td>2013-12-17</td>\n",
       "      <td>Vaugirard</td>\n",
       "      <td>Paris</td>\n",
       "      <td>2</td>\n",
       "      <td>58</td>\n",
       "    </tr>\n",
       "    <tr>\n",
       "      <th>4</th>\n",
       "      <td>2014-12-14</td>\n",
       "      <td>Passy</td>\n",
       "      <td>Paris</td>\n",
       "      <td>2</td>\n",
       "      <td>60</td>\n",
       "    </tr>\n",
       "    <tr>\n",
       "      <th>...</th>\n",
       "      <td>...</td>\n",
       "      <td>...</td>\n",
       "      <td>...</td>\n",
       "      <td>...</td>\n",
       "      <td>...</td>\n",
       "    </tr>\n",
       "    <tr>\n",
       "      <th>279707</th>\n",
       "      <td>2015-04-13</td>\n",
       "      <td>Observatoire</td>\n",
       "      <td>Paris</td>\n",
       "      <td>2</td>\n",
       "      <td>120</td>\n",
       "    </tr>\n",
       "    <tr>\n",
       "      <th>279708</th>\n",
       "      <td>2013-11-27</td>\n",
       "      <td>Buttes-Montmartre</td>\n",
       "      <td>Paris</td>\n",
       "      <td>2</td>\n",
       "      <td>60</td>\n",
       "    </tr>\n",
       "    <tr>\n",
       "      <th>279709</th>\n",
       "      <td>2012-04-27</td>\n",
       "      <td>Buttes-Montmartre</td>\n",
       "      <td>Paris</td>\n",
       "      <td>2</td>\n",
       "      <td>50</td>\n",
       "    </tr>\n",
       "    <tr>\n",
       "      <th>279710</th>\n",
       "      <td>2015-07-16</td>\n",
       "      <td>Popincourt</td>\n",
       "      <td>Paris</td>\n",
       "      <td>2</td>\n",
       "      <td>105</td>\n",
       "    </tr>\n",
       "    <tr>\n",
       "      <th>279711</th>\n",
       "      <td>2013-06-17</td>\n",
       "      <td>Enclos-St-Laurent</td>\n",
       "      <td>Paris</td>\n",
       "      <td>2</td>\n",
       "      <td>70</td>\n",
       "    </tr>\n",
       "  </tbody>\n",
       "</table>\n",
       "<p>64690 rows × 5 columns</p>\n",
       "</div>"
      ],
      "text/plain": [
       "       host_since      neighbourhood   city  accommodates  price\n",
       "0      2011-12-03  Buttes-Montmartre  Paris             2     53\n",
       "1      2013-11-29  Buttes-Montmartre  Paris             2    120\n",
       "2      2014-07-31             Elysee  Paris             2     89\n",
       "3      2013-12-17          Vaugirard  Paris             2     58\n",
       "4      2014-12-14              Passy  Paris             2     60\n",
       "...           ...                ...    ...           ...    ...\n",
       "279707 2015-04-13       Observatoire  Paris             2    120\n",
       "279708 2013-11-27  Buttes-Montmartre  Paris             2     60\n",
       "279709 2012-04-27  Buttes-Montmartre  Paris             2     50\n",
       "279710 2015-07-16         Popincourt  Paris             2    105\n",
       "279711 2013-06-17  Enclos-St-Laurent  Paris             2     70\n",
       "\n",
       "[64690 rows x 5 columns]"
      ]
     },
     "execution_count": 4,
     "metadata": {},
     "output_type": "execute_result"
    }
   ],
   "source": [
    "filter_listing = listing_data.loc[listing_data['city']=='Paris',['host_since','neighbourhood','city','accommodates','price']]\n",
    "filter_listing"
   ]
  },
  {
   "cell_type": "markdown",
   "id": "da348bc1",
   "metadata": {
    "papermill": {
     "duration": 0.005083,
     "end_time": "2025-05-12T13:02:27.548826",
     "exception": false,
     "start_time": "2025-05-12T13:02:27.543743",
     "status": "completed"
    },
    "tags": []
   },
   "source": [
    "QA the Paris listings data: check for missing values, and calculate the minimum, maximum, and average for each numeric field\n",
    "\n"
   ]
  },
  {
   "cell_type": "code",
   "execution_count": 5,
   "id": "4282af32",
   "metadata": {
    "execution": {
     "iopub.execute_input": "2025-05-12T13:02:27.561878Z",
     "iopub.status.busy": "2025-05-12T13:02:27.561067Z",
     "iopub.status.idle": "2025-05-12T13:02:27.576021Z",
     "shell.execute_reply": "2025-05-12T13:02:27.575215Z"
    },
    "papermill": {
     "duration": 0.023383,
     "end_time": "2025-05-12T13:02:27.577500",
     "exception": false,
     "start_time": "2025-05-12T13:02:27.554117",
     "status": "completed"
    },
    "tags": []
   },
   "outputs": [
    {
     "data": {
      "text/plain": [
       "host_since       33\n",
       "neighbourhood     0\n",
       "city              0\n",
       "accommodates      0\n",
       "price             0\n",
       "dtype: int64"
      ]
     },
     "execution_count": 5,
     "metadata": {},
     "output_type": "execute_result"
    }
   ],
   "source": [
    "# find missing value \n",
    "mask = filter_listing.loc[:,:].isna().sum()\n",
    "mask"
   ]
  },
  {
   "cell_type": "code",
   "execution_count": 6,
   "id": "1d353df6",
   "metadata": {
    "execution": {
     "iopub.execute_input": "2025-05-12T13:02:27.590357Z",
     "iopub.status.busy": "2025-05-12T13:02:27.590068Z",
     "iopub.status.idle": "2025-05-12T13:02:27.599429Z",
     "shell.execute_reply": "2025-05-12T13:02:27.598361Z"
    },
    "papermill": {
     "duration": 0.01777,
     "end_time": "2025-05-12T13:02:27.600880",
     "exception": false,
     "start_time": "2025-05-12T13:02:27.583110",
     "status": "completed"
    },
    "tags": []
   },
   "outputs": [
    {
     "data": {
      "text/plain": [
       "accommodates    0\n",
       "price           0\n",
       "dtype: int64"
      ]
     },
     "execution_count": 6,
     "metadata": {},
     "output_type": "execute_result"
    }
   ],
   "source": [
    "# find min value \n",
    "filter_listing.loc[:,['accommodates','price']].min()"
   ]
  },
  {
   "cell_type": "code",
   "execution_count": 7,
   "id": "889f0180",
   "metadata": {
    "execution": {
     "iopub.execute_input": "2025-05-12T13:02:27.613548Z",
     "iopub.status.busy": "2025-05-12T13:02:27.613274Z",
     "iopub.status.idle": "2025-05-12T13:02:27.622115Z",
     "shell.execute_reply": "2025-05-12T13:02:27.621077Z"
    },
    "papermill": {
     "duration": 0.016867,
     "end_time": "2025-05-12T13:02:27.623649",
     "exception": false,
     "start_time": "2025-05-12T13:02:27.606782",
     "status": "completed"
    },
    "tags": []
   },
   "outputs": [
    {
     "data": {
      "text/plain": [
       "accommodates       16\n",
       "price           12000\n",
       "dtype: int64"
      ]
     },
     "execution_count": 7,
     "metadata": {},
     "output_type": "execute_result"
    }
   ],
   "source": [
    "#find max value\n",
    "filter_listing.loc[:,['accommodates','price']].max()"
   ]
  },
  {
   "cell_type": "code",
   "execution_count": 8,
   "id": "328ad4a1",
   "metadata": {
    "execution": {
     "iopub.execute_input": "2025-05-12T13:02:27.636484Z",
     "iopub.status.busy": "2025-05-12T13:02:27.636174Z",
     "iopub.status.idle": "2025-05-12T13:02:27.644962Z",
     "shell.execute_reply": "2025-05-12T13:02:27.644065Z"
    },
    "papermill": {
     "duration": 0.01704,
     "end_time": "2025-05-12T13:02:27.646517",
     "exception": false,
     "start_time": "2025-05-12T13:02:27.629477",
     "status": "completed"
    },
    "tags": []
   },
   "outputs": [
    {
     "data": {
      "text/plain": [
       "accommodates      3.04\n",
       "price           113.10\n",
       "dtype: float64"
      ]
     },
     "execution_count": 8,
     "metadata": {},
     "output_type": "execute_result"
    }
   ],
   "source": [
    "# find average value\n",
    "filter_listing.loc[:,['accommodates','price']].mean().round(2)"
   ]
  },
  {
   "cell_type": "code",
   "execution_count": 9,
   "id": "94f70523",
   "metadata": {
    "execution": {
     "iopub.execute_input": "2025-05-12T13:02:27.659947Z",
     "iopub.status.busy": "2025-05-12T13:02:27.659676Z",
     "iopub.status.idle": "2025-05-12T13:02:27.682432Z",
     "shell.execute_reply": "2025-05-12T13:02:27.681558Z"
    },
    "papermill": {
     "duration": 0.031256,
     "end_time": "2025-05-12T13:02:27.684122",
     "exception": false,
     "start_time": "2025-05-12T13:02:27.652866",
     "status": "completed"
    },
    "tags": []
   },
   "outputs": [
    {
     "data": {
      "text/html": [
       "<div>\n",
       "<style scoped>\n",
       "    .dataframe tbody tr th:only-of-type {\n",
       "        vertical-align: middle;\n",
       "    }\n",
       "\n",
       "    .dataframe tbody tr th {\n",
       "        vertical-align: top;\n",
       "    }\n",
       "\n",
       "    .dataframe thead th {\n",
       "        text-align: right;\n",
       "    }\n",
       "</style>\n",
       "<table border=\"1\" class=\"dataframe\">\n",
       "  <thead>\n",
       "    <tr style=\"text-align: right;\">\n",
       "      <th></th>\n",
       "      <th>accommodates</th>\n",
       "      <th>price</th>\n",
       "    </tr>\n",
       "  </thead>\n",
       "  <tbody>\n",
       "    <tr>\n",
       "      <th>count</th>\n",
       "      <td>64690.000000</td>\n",
       "      <td>64690.000000</td>\n",
       "    </tr>\n",
       "    <tr>\n",
       "      <th>mean</th>\n",
       "      <td>3.037997</td>\n",
       "      <td>113.096445</td>\n",
       "    </tr>\n",
       "    <tr>\n",
       "      <th>std</th>\n",
       "      <td>1.588766</td>\n",
       "      <td>214.433668</td>\n",
       "    </tr>\n",
       "    <tr>\n",
       "      <th>min</th>\n",
       "      <td>0.000000</td>\n",
       "      <td>0.000000</td>\n",
       "    </tr>\n",
       "    <tr>\n",
       "      <th>25%</th>\n",
       "      <td>2.000000</td>\n",
       "      <td>59.000000</td>\n",
       "    </tr>\n",
       "    <tr>\n",
       "      <th>50%</th>\n",
       "      <td>2.000000</td>\n",
       "      <td>80.000000</td>\n",
       "    </tr>\n",
       "    <tr>\n",
       "      <th>75%</th>\n",
       "      <td>4.000000</td>\n",
       "      <td>120.000000</td>\n",
       "    </tr>\n",
       "    <tr>\n",
       "      <th>max</th>\n",
       "      <td>16.000000</td>\n",
       "      <td>12000.000000</td>\n",
       "    </tr>\n",
       "  </tbody>\n",
       "</table>\n",
       "</div>"
      ],
      "text/plain": [
       "       accommodates         price\n",
       "count  64690.000000  64690.000000\n",
       "mean       3.037997    113.096445\n",
       "std        1.588766    214.433668\n",
       "min        0.000000      0.000000\n",
       "25%        2.000000     59.000000\n",
       "50%        2.000000     80.000000\n",
       "75%        4.000000    120.000000\n",
       "max       16.000000  12000.000000"
      ]
     },
     "execution_count": 9,
     "metadata": {},
     "output_type": "execute_result"
    }
   ],
   "source": [
    "filter_listing.iloc[:,[3,4]].describe()"
   ]
  },
  {
   "cell_type": "markdown",
   "id": "303ae6d0",
   "metadata": {
    "papermill": {
     "duration": 0.005932,
     "end_time": "2025-05-12T13:02:27.696760",
     "exception": false,
     "start_time": "2025-05-12T13:02:27.690828",
     "status": "completed"
    },
    "tags": []
   },
   "source": [
    "Prepare the data for visualization\n",
    "\n",
    "**Create a table named paris_listings_neighbourhood that groups Paris listings by 'neighbourhood' and calculates the mean price (sorted low to high)**"
   ]
  },
  {
   "cell_type": "code",
   "execution_count": 10,
   "id": "9f5135a8",
   "metadata": {
    "execution": {
     "iopub.execute_input": "2025-05-12T13:02:27.710619Z",
     "iopub.status.busy": "2025-05-12T13:02:27.710326Z",
     "iopub.status.idle": "2025-05-12T13:02:27.730322Z",
     "shell.execute_reply": "2025-05-12T13:02:27.729384Z"
    },
    "papermill": {
     "duration": 0.028905,
     "end_time": "2025-05-12T13:02:27.731787",
     "exception": false,
     "start_time": "2025-05-12T13:02:27.702882",
     "status": "completed"
    },
    "tags": []
   },
   "outputs": [
    {
     "data": {
      "text/html": [
       "<div>\n",
       "<style scoped>\n",
       "    .dataframe tbody tr th:only-of-type {\n",
       "        vertical-align: middle;\n",
       "    }\n",
       "\n",
       "    .dataframe tbody tr th {\n",
       "        vertical-align: top;\n",
       "    }\n",
       "\n",
       "    .dataframe thead th {\n",
       "        text-align: right;\n",
       "    }\n",
       "</style>\n",
       "<table border=\"1\" class=\"dataframe\">\n",
       "  <thead>\n",
       "    <tr style=\"text-align: right;\">\n",
       "      <th></th>\n",
       "      <th>price</th>\n",
       "    </tr>\n",
       "    <tr>\n",
       "      <th>neighbourhood</th>\n",
       "      <th></th>\n",
       "    </tr>\n",
       "  </thead>\n",
       "  <tbody>\n",
       "    <tr>\n",
       "      <th>Menilmontant</th>\n",
       "      <td>74.942257</td>\n",
       "    </tr>\n",
       "    <tr>\n",
       "      <th>Buttes-Chaumont</th>\n",
       "      <td>82.690182</td>\n",
       "    </tr>\n",
       "    <tr>\n",
       "      <th>Buttes-Montmartre</th>\n",
       "      <td>87.209479</td>\n",
       "    </tr>\n",
       "    <tr>\n",
       "      <th>Reuilly</th>\n",
       "      <td>89.058402</td>\n",
       "    </tr>\n",
       "    <tr>\n",
       "      <th>Popincourt</th>\n",
       "      <td>90.559459</td>\n",
       "    </tr>\n",
       "    <tr>\n",
       "      <th>Gobelins</th>\n",
       "      <td>98.110184</td>\n",
       "    </tr>\n",
       "    <tr>\n",
       "      <th>Observatoire</th>\n",
       "      <td>101.866801</td>\n",
       "    </tr>\n",
       "    <tr>\n",
       "      <th>Batignolles-Monceau</th>\n",
       "      <td>102.612702</td>\n",
       "    </tr>\n",
       "    <tr>\n",
       "      <th>Enclos-St-Laurent</th>\n",
       "      <td>102.967156</td>\n",
       "    </tr>\n",
       "    <tr>\n",
       "      <th>Vaugirard</th>\n",
       "      <td>106.831330</td>\n",
       "    </tr>\n",
       "    <tr>\n",
       "      <th>Opera</th>\n",
       "      <td>119.038644</td>\n",
       "    </tr>\n",
       "    <tr>\n",
       "      <th>Pantheon</th>\n",
       "      <td>122.662150</td>\n",
       "    </tr>\n",
       "    <tr>\n",
       "      <th>Temple</th>\n",
       "      <td>138.446823</td>\n",
       "    </tr>\n",
       "    <tr>\n",
       "      <th>Hotel-de-Ville</th>\n",
       "      <td>144.472110</td>\n",
       "    </tr>\n",
       "    <tr>\n",
       "      <th>Bourse</th>\n",
       "      <td>149.496801</td>\n",
       "    </tr>\n",
       "    <tr>\n",
       "      <th>Luxembourg</th>\n",
       "      <td>155.638639</td>\n",
       "    </tr>\n",
       "    <tr>\n",
       "      <th>Palais-Bourbon</th>\n",
       "      <td>156.856578</td>\n",
       "    </tr>\n",
       "    <tr>\n",
       "      <th>Passy</th>\n",
       "      <td>161.144635</td>\n",
       "    </tr>\n",
       "    <tr>\n",
       "      <th>Louvre</th>\n",
       "      <td>175.379972</td>\n",
       "    </tr>\n",
       "    <tr>\n",
       "      <th>Elysee</th>\n",
       "      <td>210.536765</td>\n",
       "    </tr>\n",
       "  </tbody>\n",
       "</table>\n",
       "</div>"
      ],
      "text/plain": [
       "                          price\n",
       "neighbourhood                  \n",
       "Menilmontant          74.942257\n",
       "Buttes-Chaumont       82.690182\n",
       "Buttes-Montmartre     87.209479\n",
       "Reuilly               89.058402\n",
       "Popincourt            90.559459\n",
       "Gobelins              98.110184\n",
       "Observatoire         101.866801\n",
       "Batignolles-Monceau  102.612702\n",
       "Enclos-St-Laurent    102.967156\n",
       "Vaugirard            106.831330\n",
       "Opera                119.038644\n",
       "Pantheon             122.662150\n",
       "Temple               138.446823\n",
       "Hotel-de-Ville       144.472110\n",
       "Bourse               149.496801\n",
       "Luxembourg           155.638639\n",
       "Palais-Bourbon       156.856578\n",
       "Passy                161.144635\n",
       "Louvre               175.379972\n",
       "Elysee               210.536765"
      ]
     },
     "execution_count": 10,
     "metadata": {},
     "output_type": "execute_result"
    }
   ],
   "source": [
    "paris_listings_neighbourhood = filter_listing.groupby('neighbourhood').agg({'price':'mean'})\n",
    "paris_listings_neighbourhood.sort_values(by='price')"
   ]
  },
  {
   "cell_type": "markdown",
   "id": "347e7e80",
   "metadata": {
    "papermill": {
     "duration": 0.006009,
     "end_time": "2025-05-12T13:02:27.744123",
     "exception": false,
     "start_time": "2025-05-12T13:02:27.738114",
     "status": "completed"
    },
    "tags": []
   },
   "source": [
    "****Create a table named paris_listings_accomodations, filter down to the most expensive neighborhood, group by the ‘accommodations’ column, and add the mean price for each value of ‘accommodates’ (sorted low to high)****\n",
    "\n"
   ]
  },
  {
   "cell_type": "code",
   "execution_count": 11,
   "id": "3f3434d3",
   "metadata": {
    "execution": {
     "iopub.execute_input": "2025-05-12T13:02:27.758654Z",
     "iopub.status.busy": "2025-05-12T13:02:27.757882Z",
     "iopub.status.idle": "2025-05-12T13:02:27.777482Z",
     "shell.execute_reply": "2025-05-12T13:02:27.776698Z"
    },
    "papermill": {
     "duration": 0.028184,
     "end_time": "2025-05-12T13:02:27.779102",
     "exception": false,
     "start_time": "2025-05-12T13:02:27.750918",
     "status": "completed"
    },
    "tags": []
   },
   "outputs": [
    {
     "data": {
      "text/html": [
       "<div>\n",
       "<style scoped>\n",
       "    .dataframe tbody tr th:only-of-type {\n",
       "        vertical-align: middle;\n",
       "    }\n",
       "\n",
       "    .dataframe tbody tr th {\n",
       "        vertical-align: top;\n",
       "    }\n",
       "\n",
       "    .dataframe thead th {\n",
       "        text-align: right;\n",
       "    }\n",
       "</style>\n",
       "<table border=\"1\" class=\"dataframe\">\n",
       "  <thead>\n",
       "    <tr style=\"text-align: right;\">\n",
       "      <th></th>\n",
       "      <th>price</th>\n",
       "    </tr>\n",
       "    <tr>\n",
       "      <th>accommodates</th>\n",
       "      <th></th>\n",
       "    </tr>\n",
       "  </thead>\n",
       "  <tbody>\n",
       "    <tr>\n",
       "      <th>0</th>\n",
       "      <td>0.000000</td>\n",
       "    </tr>\n",
       "    <tr>\n",
       "      <th>1</th>\n",
       "      <td>79.522222</td>\n",
       "    </tr>\n",
       "    <tr>\n",
       "      <th>2</th>\n",
       "      <td>155.103352</td>\n",
       "    </tr>\n",
       "    <tr>\n",
       "      <th>3</th>\n",
       "      <td>152.828767</td>\n",
       "    </tr>\n",
       "    <tr>\n",
       "      <th>4</th>\n",
       "      <td>212.096070</td>\n",
       "    </tr>\n",
       "    <tr>\n",
       "      <th>5</th>\n",
       "      <td>328.817073</td>\n",
       "    </tr>\n",
       "    <tr>\n",
       "      <th>6</th>\n",
       "      <td>355.508571</td>\n",
       "    </tr>\n",
       "    <tr>\n",
       "      <th>7</th>\n",
       "      <td>411.538462</td>\n",
       "    </tr>\n",
       "    <tr>\n",
       "      <th>8</th>\n",
       "      <td>405.518519</td>\n",
       "    </tr>\n",
       "    <tr>\n",
       "      <th>9</th>\n",
       "      <td>440.272727</td>\n",
       "    </tr>\n",
       "    <tr>\n",
       "      <th>10</th>\n",
       "      <td>500.857143</td>\n",
       "    </tr>\n",
       "    <tr>\n",
       "      <th>11</th>\n",
       "      <td>805.000000</td>\n",
       "    </tr>\n",
       "    <tr>\n",
       "      <th>12</th>\n",
       "      <td>529.625000</td>\n",
       "    </tr>\n",
       "    <tr>\n",
       "      <th>13</th>\n",
       "      <td>842.500000</td>\n",
       "    </tr>\n",
       "    <tr>\n",
       "      <th>14</th>\n",
       "      <td>971.000000</td>\n",
       "    </tr>\n",
       "    <tr>\n",
       "      <th>16</th>\n",
       "      <td>800.000000</td>\n",
       "    </tr>\n",
       "  </tbody>\n",
       "</table>\n",
       "</div>"
      ],
      "text/plain": [
       "                   price\n",
       "accommodates            \n",
       "0               0.000000\n",
       "1              79.522222\n",
       "2             155.103352\n",
       "3             152.828767\n",
       "4             212.096070\n",
       "5             328.817073\n",
       "6             355.508571\n",
       "7             411.538462\n",
       "8             405.518519\n",
       "9             440.272727\n",
       "10            500.857143\n",
       "11            805.000000\n",
       "12            529.625000\n",
       "13            842.500000\n",
       "14            971.000000\n",
       "16            800.000000"
      ]
     },
     "execution_count": 11,
     "metadata": {},
     "output_type": "execute_result"
    }
   ],
   "source": [
    "paris_listings_accomodations = filter_listing.query(\"neighbourhood == 'Elysee'\").groupby('accommodates').agg({'price':'mean'})\n",
    "paris_listings_accomodations\n"
   ]
  },
  {
   "cell_type": "markdown",
   "id": "a238074c",
   "metadata": {
    "papermill": {
     "duration": 0.006009,
     "end_time": "2025-05-12T13:02:27.791460",
     "exception": false,
     "start_time": "2025-05-12T13:02:27.785451",
     "status": "completed"
    },
    "tags": []
   },
   "source": [
    "**Create a table called paris_listings_over_time grouped by the ‘host_since’ year, and calculate the average price and count of rows representing the number of new hosts\n",
    "\n",
    "**"
   ]
  },
  {
   "cell_type": "code",
   "execution_count": 12,
   "id": "2d340e6e",
   "metadata": {
    "execution": {
     "iopub.execute_input": "2025-05-12T13:02:27.805707Z",
     "iopub.status.busy": "2025-05-12T13:02:27.805083Z",
     "iopub.status.idle": "2025-05-12T13:02:27.860055Z",
     "shell.execute_reply": "2025-05-12T13:02:27.858935Z"
    },
    "papermill": {
     "duration": 0.06395,
     "end_time": "2025-05-12T13:02:27.861768",
     "exception": false,
     "start_time": "2025-05-12T13:02:27.797818",
     "status": "completed"
    },
    "tags": []
   },
   "outputs": [
    {
     "data": {
      "text/html": [
       "<div>\n",
       "<style scoped>\n",
       "    .dataframe tbody tr th:only-of-type {\n",
       "        vertical-align: middle;\n",
       "    }\n",
       "\n",
       "    .dataframe tbody tr th {\n",
       "        vertical-align: top;\n",
       "    }\n",
       "\n",
       "    .dataframe thead th {\n",
       "        text-align: right;\n",
       "    }\n",
       "</style>\n",
       "<table border=\"1\" class=\"dataframe\">\n",
       "  <thead>\n",
       "    <tr style=\"text-align: right;\">\n",
       "      <th></th>\n",
       "      <th>price</th>\n",
       "      <th>neighbourhood</th>\n",
       "    </tr>\n",
       "    <tr>\n",
       "      <th>host_since</th>\n",
       "      <th></th>\n",
       "      <th></th>\n",
       "    </tr>\n",
       "  </thead>\n",
       "  <tbody>\n",
       "    <tr>\n",
       "      <th>2008-12-31</th>\n",
       "      <td>77.750000</td>\n",
       "      <td>4</td>\n",
       "    </tr>\n",
       "    <tr>\n",
       "      <th>2009-12-31</th>\n",
       "      <td>159.641509</td>\n",
       "      <td>106</td>\n",
       "    </tr>\n",
       "    <tr>\n",
       "      <th>2010-12-31</th>\n",
       "      <td>125.031250</td>\n",
       "      <td>416</td>\n",
       "    </tr>\n",
       "    <tr>\n",
       "      <th>2011-12-31</th>\n",
       "      <td>124.828230</td>\n",
       "      <td>1339</td>\n",
       "    </tr>\n",
       "    <tr>\n",
       "      <th>2012-12-31</th>\n",
       "      <td>111.578615</td>\n",
       "      <td>4592</td>\n",
       "    </tr>\n",
       "    <tr>\n",
       "      <th>2013-12-31</th>\n",
       "      <td>107.096414</td>\n",
       "      <td>8142</td>\n",
       "    </tr>\n",
       "    <tr>\n",
       "      <th>2014-12-31</th>\n",
       "      <td>100.253800</td>\n",
       "      <td>10922</td>\n",
       "    </tr>\n",
       "    <tr>\n",
       "      <th>2015-12-31</th>\n",
       "      <td>103.646250</td>\n",
       "      <td>12147</td>\n",
       "    </tr>\n",
       "    <tr>\n",
       "      <th>2016-12-31</th>\n",
       "      <td>114.159847</td>\n",
       "      <td>8871</td>\n",
       "    </tr>\n",
       "    <tr>\n",
       "      <th>2017-12-31</th>\n",
       "      <td>108.658888</td>\n",
       "      <td>4585</td>\n",
       "    </tr>\n",
       "    <tr>\n",
       "      <th>2018-12-31</th>\n",
       "      <td>138.209362</td>\n",
       "      <td>4294</td>\n",
       "    </tr>\n",
       "    <tr>\n",
       "      <th>2019-12-31</th>\n",
       "      <td>129.757113</td>\n",
       "      <td>5694</td>\n",
       "    </tr>\n",
       "    <tr>\n",
       "      <th>2020-12-31</th>\n",
       "      <td>141.456038</td>\n",
       "      <td>3412</td>\n",
       "    </tr>\n",
       "    <tr>\n",
       "      <th>2021-12-31</th>\n",
       "      <td>93.488722</td>\n",
       "      <td>133</td>\n",
       "    </tr>\n",
       "  </tbody>\n",
       "</table>\n",
       "</div>"
      ],
      "text/plain": [
       "                 price  neighbourhood\n",
       "host_since                           \n",
       "2008-12-31   77.750000              4\n",
       "2009-12-31  159.641509            106\n",
       "2010-12-31  125.031250            416\n",
       "2011-12-31  124.828230           1339\n",
       "2012-12-31  111.578615           4592\n",
       "2013-12-31  107.096414           8142\n",
       "2014-12-31  100.253800          10922\n",
       "2015-12-31  103.646250          12147\n",
       "2016-12-31  114.159847           8871\n",
       "2017-12-31  108.658888           4585\n",
       "2018-12-31  138.209362           4294\n",
       "2019-12-31  129.757113           5694\n",
       "2020-12-31  141.456038           3412\n",
       "2021-12-31   93.488722            133"
      ]
     },
     "execution_count": 12,
     "metadata": {},
     "output_type": "execute_result"
    }
   ],
   "source": [
    "filter_listing = filter_listing.set_index('host_since')\n",
    "filter_listing\n",
    "paris_listings_over_time = filter_listing.resample('YE').agg({'price':'mean','neighbourhood':'count'})\n",
    "paris_listings_over_time\n"
   ]
  },
  {
   "cell_type": "markdown",
   "id": "a88ed12b",
   "metadata": {
    "papermill": {
     "duration": 0.006269,
     "end_time": "2025-05-12T13:02:27.874771",
     "exception": false,
     "start_time": "2025-05-12T13:02:27.868502",
     "status": "completed"
    },
    "tags": []
   },
   "source": [
    "**Create a horizontal bar chart of the average price by neighborhood in Paris, and make sure to add a title and change axis labels as needed**\n"
   ]
  },
  {
   "cell_type": "code",
   "execution_count": 13,
   "id": "c61cb7af",
   "metadata": {
    "execution": {
     "iopub.execute_input": "2025-05-12T13:02:27.889742Z",
     "iopub.status.busy": "2025-05-12T13:02:27.889468Z",
     "iopub.status.idle": "2025-05-12T13:02:28.384315Z",
     "shell.execute_reply": "2025-05-12T13:02:28.383396Z"
    },
    "papermill": {
     "duration": 0.50394,
     "end_time": "2025-05-12T13:02:28.385854",
     "exception": false,
     "start_time": "2025-05-12T13:02:27.881914",
     "status": "completed"
    },
    "tags": []
   },
   "outputs": [
    {
     "data": {
      "image/png": "[encoded data removed]",
      "text/plain": [
       "<Figure size 640x480 with 1 Axes>"
      ]
     },
     "metadata": {},
     "output_type": "display_data"
    }
   ],
   "source": [
    "paris_listings_neighbourhood.sort_values(by='price',ascending=True).plot.barh(\n",
    "    title = 'Average listing price by paris is  neighbourhood',\n",
    "    xlabel = 'Price per Night',\n",
    "    ylabel = 'Neighbourhood',\n",
    "    legend=False\n",
    ");\n"
   ]
  },
  {
   "cell_type": "markdown",
   "id": "dfc48401",
   "metadata": {
    "papermill": {
     "duration": 0.007765,
     "end_time": "2025-05-12T13:02:28.401643",
     "exception": false,
     "start_time": "2025-05-12T13:02:28.393878",
     "status": "completed"
    },
    "tags": []
   },
   "source": [
    "Create a horizontal bar chart of the average price by ‘accommodates’ in Paris’ most expensive neighborhood, and make sure to add a title and change axis labels as needed****"
   ]
  },
  {
   "cell_type": "code",
   "execution_count": 14,
   "id": "9d178065",
   "metadata": {
    "execution": {
     "iopub.execute_input": "2025-05-12T13:02:28.418914Z",
     "iopub.status.busy": "2025-05-12T13:02:28.418624Z",
     "iopub.status.idle": "2025-05-12T13:02:28.686898Z",
     "shell.execute_reply": "2025-05-12T13:02:28.685824Z"
    },
    "papermill": {
     "duration": 0.278927,
     "end_time": "2025-05-12T13:02:28.688417",
     "exception": false,
     "start_time": "2025-05-12T13:02:28.409490",
     "status": "completed"
    },
    "tags": []
   },
   "outputs": [
    {
     "data": {
      "image/png": "[encoded data removed]",
      "text/plain": [
       "<Figure size 640x480 with 1 Axes>"
      ]
     },
     "metadata": {},
     "output_type": "display_data"
    }
   ],
   "source": [
    "paris_listings_accomodations.sort_values(by='price',ascending=True).plot.barh(\n",
    "    title = 'Average listing price by Accomadation capacity',\n",
    "    xlabel = 'price per night (euro)',\n",
    "    ylabel = 'Accommendation capacity',\n",
    "    legend=False\n",
    ");\n"
   ]
  },
  {
   "cell_type": "markdown",
   "id": "57cef55d",
   "metadata": {
    "papermill": {
     "duration": 0.007844,
     "end_time": "2025-05-12T13:02:28.704584",
     "exception": false,
     "start_time": "2025-05-12T13:02:28.696740",
     "status": "completed"
    },
    "tags": []
   },
   "source": [
    "****Create two line charts: one showing the count of new hosts over time, and one showing average price. Set the y-axis limit to 0, add a title, and change axis labels as needed****"
   ]
  },
  {
   "cell_type": "code",
   "execution_count": 15,
   "id": "9da9154d",
   "metadata": {
    "execution": {
     "iopub.execute_input": "2025-05-12T13:02:28.722615Z",
     "iopub.status.busy": "2025-05-12T13:02:28.722337Z",
     "iopub.status.idle": "2025-05-12T13:02:28.958878Z",
     "shell.execute_reply": "2025-05-12T13:02:28.958072Z"
    },
    "papermill": {
     "duration": 0.247534,
     "end_time": "2025-05-12T13:02:28.960587",
     "exception": false,
     "start_time": "2025-05-12T13:02:28.713053",
     "status": "completed"
    },
    "tags": []
   },
   "outputs": [
    {
     "data": {
      "image/png": "[encoded data removed]",
      "text/plain": [
       "<Figure size 640x480 with 1 Axes>"
      ]
     },
     "metadata": {},
     "output_type": "display_data"
    }
   ],
   "source": [
    "paris_listings_over_time['neighbourhood'].plot(\n",
    "    ylabel='new Host',\n",
    "    title= 'new AirBnb Hosts in Paris over Time'\n",
    ");"
   ]
  },
  {
   "cell_type": "code",
   "execution_count": 16,
   "id": "edeff9b5",
   "metadata": {
    "execution": {
     "iopub.execute_input": "2025-05-12T13:02:28.981680Z",
     "iopub.status.busy": "2025-05-12T13:02:28.981353Z",
     "iopub.status.idle": "2025-05-12T13:02:29.208496Z",
     "shell.execute_reply": "2025-05-12T13:02:29.207487Z"
    },
    "papermill": {
     "duration": 0.239686,
     "end_time": "2025-05-12T13:02:29.210282",
     "exception": false,
     "start_time": "2025-05-12T13:02:28.970596",
     "status": "completed"
    },
    "tags": []
   },
   "outputs": [
    {
     "data": {
      "image/png": "[encoded data removed]",
      "text/plain": [
       "<Figure size 640x480 with 1 Axes>"
      ]
     },
     "metadata": {},
     "output_type": "display_data"
    }
   ],
   "source": [
    "paris_listings_over_time['price'].plot(\n",
    "    ylabel='Average price (Euro)',\n",
    "    title= 'Average airbnb price in price over time'\n",
    ");"
   ]
  },
  {
   "cell_type": "code",
   "execution_count": 17,
   "id": "39ebe34f",
   "metadata": {
    "execution": {
     "iopub.execute_input": "2025-05-12T13:02:29.231476Z",
     "iopub.status.busy": "2025-05-12T13:02:29.231168Z",
     "iopub.status.idle": "2025-05-12T13:02:29.611901Z",
     "shell.execute_reply": "2025-05-12T13:02:29.611018Z"
    },
    "papermill": {
     "duration": 0.393347,
     "end_time": "2025-05-12T13:02:29.613575",
     "exception": false,
     "start_time": "2025-05-12T13:02:29.220228",
     "status": "completed"
    },
    "tags": []
   },
   "outputs": [
    {
     "data": {
      "image/png": "[encoded data removed]",
      "text/plain": [
       "<Figure size 640x480 with 2 Axes>"
      ]
     },
     "metadata": {},
     "output_type": "display_data"
    }
   ],
   "source": [
    "fig = plt.figure()\n",
    "ax = fig.add_subplot()\n",
    "ax.plot(\n",
    "    paris_listings_over_time['neighbourhood'].index,\n",
    "    paris_listings_over_time['neighbourhood'],\n",
    "    c='pink'\n",
    ")\n",
    "ax.set_ylabel('New host');\n",
    "ax2 = ax.twinx()\n",
    "ax2.plot(\n",
    "    paris_listings_over_time['price'].index,\n",
    "    paris_listings_over_time['price'],\n",
    "    \n",
    ")\n",
    "ax2.set_ylim(0)\n",
    "ax2.set_ylabel('Average price');\n",
    "ax.set_title('2015 Regulation lead to fewer new host,Higher price');"
   ]
  }
 ],
 "metadata": {
  "kaggle": {
   "accelerator": "none",
   "dataSources": [
    {
     "datasetId": 1530930,
     "sourceId": 2526818,
     "sourceType": "datasetVersion"
    }
   ],
   "dockerImageVersionId": 31012,
   "isGpuEnabled": false,
   "isInternetEnabled": false,
   "language": "python",
   "sourceType": "notebook"
  },
  "kernelspec": {
   "display_name": "Python 3",
   "language": "python",
   "name": "python3"
  },
  "language_info": {
   "codemirror_mode": {
    "name": "ipython",
    "version": 3
   },
   "file_extension": ".py",
   "mimetype": "text/x-python",
   "name": "python",
   "nbconvert_exporter": "python",
   "pygments_lexer": "ipython3",
   "version": "3.11.11"
  },
  "papermill": {
   "default_parameters": {},
   "duration": 15.453512,
   "end_time": "2025-05-12T13:02:30.145337",
   "environment_variables": {},
   "exception": null,
   "input_path": "__notebook__.ipynb",
   "output_path": "__notebook__.ipynb",
   "parameters": {},
   "start_time": "2025-05-12T13:02:14.691825",
   "version": "2.6.0"
  }
 },
 "nbformat": 4,
 "nbformat_minor": 5
}
